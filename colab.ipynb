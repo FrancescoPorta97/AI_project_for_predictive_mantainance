{
 "cells": [
  {
   "cell_type": "markdown",
   "metadata": {
    "id": "intro-en"
   },
   "source": [
    "# Predictive Maintenance: Notebook Overview\n",
    "\n",
    "This notebook builds and evaluates convolutional and LSTM-based models for Remaining Useful Life (RUL) prediction.\n",
    "It loads preprocessed datasets, defines model architectures and evaluation metrics, performs randomized and local hyperparameter search,\n",
    "then trains, evaluates, and finally extracts the best model's parameters.\n",
    "\n",
    "Tip: run cells top to bottom; adjust dataset paths in constants if needed.\n"
   ]
  },
  {
   "cell_type": "code",
   "execution_count": null,
   "metadata": {
    "id": "L3WtQZRHa2-O"
   },
   "outputs": [],
   "source": [
    "import numpy as np\n",
    "import tensorflow as tf\n",
    "from tensorflow import keras\n",
    "from tensorflow.keras import layers\n",
    "from tensorflow.keras import Input\n",
    "from tensorflow.keras import regularizers\n",
    "from keras.layers import TimeDistributed\n",
    "from keras.layers import Conv2D\n",
    "from keras.layers import MaxPool2D\n",
    "from keras.layers import Dense\n",
    "from keras.layers import LSTM\n",
    "from keras.layers import Flatten\n",
    "from keras.layers import BatchNormalization\n",
    "from keras.layers import Dropout\n",
    "from numpy.linalg import norm\n",
    "import matplotlib.pyplot as plt\n",
    "import pickle\n",
    "import time\n",
    "import os\n",
    "from constants import dataset_conv_name, dataset_lstm_name"
   ]
  },
  {
   "cell_type": "code",
   "execution_count": null,
   "metadata": {},
   "outputs": [],
   "source": [
    "\n",
    "model=tf.keras.models.load_model('LSTM_12-14-15-16_17.h5')   \n",
    "predictions = np.ravel(model.predict(X))"
   ]
  },
  {
   "cell_type": "markdown",
   "metadata": {
    "id": "Hm3gRhxi6roW"
   },
   "source": [
    "**Model Definitions**\n",
    "\n",
    "Defines two architectures:\n",
    "- `model_conv_lstm(Tx, nh, nw, nchan, ...)`: time-distributed Conv2D feature extractor over sequences, followed by LSTM and dense heads for per-timestep RUL regression.\n",
    "- `model_conv2D(nh, nw, nchan, ...)`: pure 2D convolutional baseline with a dense regression head.\n",
    "\n",
    "Tuneable knobs include conv width (`size_conv`), LSTM units (`size_lstm`), dense size, strides, activations, and dropout.\n"
   ]
  },
  {
   "cell_type": "code",
   "execution_count": null,
   "metadata": {
    "id": "DOCJ3K8mfJiF"
   },
   "outputs": [],
   "source": [
    "def model_conv_lstm(Tx, nh, nw, nchan, size_conv, size_lstm,\n",
    "                    size_dense, drop, drop_1, activations, size_stride):\n",
    "      \n",
    "      inputs =Input(shape=(Tx,nh,nw,nchan))                                                         \n",
    "      X = TimeDistributed(Conv2D(int(nchan*size_conv)+1, 5, int(size_stride[0]),padding=\"same\", activation=activations[0]))(inputs)  #padding done so that it returns to the original dimensions\n",
    "      X=Dropout(drop)(X)                 \n",
    "      X=BatchNormalization()(X)          \n",
    "      X=TimeDistributed(MaxPool2D(2))(X)  #uses time-distributed MaxPooling with filter size 2 (stride of 2 by default)\n",
    "      X=TimeDistributed(Conv2D(int(nchan*size_conv*1.5),3,int(size_stride[1]), activation=activations[1]))(X)   # applies time distributed Conv2D in such a way that weights are the same for all the Tx elements\n",
    "      X=Dropout(drop)(X)\n",
    "      X=BatchNormalization()(X)\n",
    "      X=TimeDistributed(MaxPool2D(3))(X) \n",
    "      X=TimeDistributed(Conv2D(int(nchan*size_conv*2.25),3,int(size_stride[2]), activation=activations[2]))(X) \n",
    "      X=Dropout(drop)(X)\n",
    "      X=BatchNormalization()(X)\n",
    "      X =TimeDistributed(MaxPool2D(2))(X)\n",
    "      X=TimeDistributed(Flatten())(X)  #flatten the matrix so that the elements can be input into the LSTM\n",
    "      X=LSTM(size_lstm,return_sequences=True)(X)                                 \n",
    "      X=BatchNormalization()(X)\n",
    "      X=Dropout(drop)(X)\n",
    "      X = TimeDistributed(Dense(size_dense+1, activation = activations[3]))(X)  \n",
    "      X=BatchNormalization()(X)\n",
    "      X=Dropout(drop_1)(X)\n",
    "      outputs = TimeDistributed(Dense(1, activation = \"linear\"))(X)          \n",
    "\n",
    "      model = keras.Model(inputs=inputs, outputs=outputs)\n",
    "      return model\n",
    "\n",
    "def model_conv2D(nh,nw,nchan,size_conv,size_dense,drop,drop_1,activations,size_stride):\n",
    "  inputs = Input(shape=(nh,nw,nchan))\n",
    "  X = Conv2D(int(nchan*size_conv)+1, 5, int(size_stride[0]),padding=\"same\", activation=activations[0])(inputs)\n",
    "  X=Dropout(drop)(X)\n",
    "  X=BatchNormalization()(X)\n",
    "  X=MaxPool2D(2)(X)\n",
    "  X = Conv2D(int(nchan*size_conv*1.5), 2, int(size_stride[1]), activation=activations[1])(X)\n",
    "  X=Dropout(drop)(X)\n",
    "  X = BatchNormalization()(X)\n",
    "  X=MaxPool2D(3)(X)\n",
    "  X = Conv2D(int(nchan*size_conv*2.25), 3, int(size_stride[2]),activation=activations[2])(X)\n",
    "  X=Dropout(drop)(X)\n",
    "  X = BatchNormalization()(X)\n",
    "  X=MaxPool2D(2)(X)\n",
    "  X = Flatten()(X)\n",
    "  X = Dense(size_dense+1, activations[3])(X)\n",
    "  X=Dropout(drop_1)(X)                                               \n",
    "  X = BatchNormalization()(X)\n",
    "  outputs=Dense(1, activation=\"linear\")(X)\n",
    "\n",
    "  model = keras.Model(inputs=inputs, outputs=outputs)\n",
    "\n",
    "  return model\n"
   ]
  },
  {
   "cell_type": "code",
   "execution_count": null,
   "metadata": {
    "id": "4nHTr1q6_-zR"
   },
   "outputs": [],
   "source": [
    "conv = True\n",
    "\n",
    "if conv:\n",
    "    with open(dataset_conv_name, \"rb\") as fp:\n",
    "        [X_train, Y_train, X_test, Y_test]=pickle.load(fp)\n",
    "    a,nh,nw,nch=X_train.shape\n",
    "    \n",
    "else:\n",
    "    with open(dataset_lstm_name, \"rb\") as fp:\n",
    "        [X_train, Y_train, X_test, Y_test]=pickle.load(fp)\n",
    "    a,max_l, nh, nw, nch = X_train.shape\n",
    "    model = model_conv_lstm(max_l,nh,nw,nch)\n",
    "\n",
    "pad=0\n",
    "Y_train[Y_train==0]=pad\n",
    "Y_test[Y_test==0]=pad\n",
    "\n"
   ]
  },
  {
   "cell_type": "markdown",
   "metadata": {
    "id": "uI4NHWBO7HxS"
   },
   "source": [
    "**Score Definitions**\n",
    "\n",
    "- `norm_MAE`: normalized MAE and absolute MAE, excluding padding 0s.\n",
    "- `MAPE`: mean absolute percentage error.\n",
    "- `rel_score`: penalty for overestimations (predicted RUL > true), weighted more near end-of-life.\n",
    "- `norm_std`: normalized std of absolute error and a percentage error trace for plotting.\n",
    "- `agg_score`: weighted aggregate of the above (MAPE prioritized).\n"
   ]
  },
  {
   "cell_type": "code",
   "execution_count": null,
   "metadata": {
    "id": "45kvvVAFi6EW"
   },
   "outputs": [],
   "source": [
    "def norm_MAE(Y, predictions):\n",
    "\n",
    "    real_predictions = predictions[Y!=pad]                                           #do not consider predictions on padding to 0\n",
    "    real_Y = Y[Y!=pad]\n",
    "    MAE = np.average(np.abs(real_Y-real_predictions))\n",
    "    mae = np.average(np.abs(real_Y-real_predictions))/(np.average(real_Y))                        \n",
    "    return mae, MAE\n",
    "\n",
    "\n",
    "def MAPE(Y,predictions):\n",
    "\n",
    "    real_predictions = predictions[Y!=pad]                                           \n",
    "    real_Y = Y[Y != pad]\n",
    "    mape = np.average(np.abs(real_Y - real_predictions)/np.abs(real_Y))                          \n",
    "    return mape\n",
    "\n",
    "#score that penalizes models that generally return higher RUL than the ground truth\n",
    "def rel_score(Y, predictions):\n",
    "\n",
    "    real_predictions = predictions[Y!=pad]\n",
    "    real_Y = Y[Y!=pad]\n",
    "    tot = (np.array([real_Y, real_predictions])).T                               #create a single vector to better manage sorting\n",
    "    tot=np.flipud(tot[tot[:,0].argsort()])                                     \n",
    "    real_Y=tot[:,0]\n",
    "    real_predictions=tot[:,1]\n",
    "    range_=0.50\n",
    "    vec=np.zeros(real_Y.size)\n",
    "    for i in range (real_Y.size):\n",
    "        vec[i]=np.power(1.1,i)                                                   #creates a weight vector that will constitute the score\n",
    "\n",
    "    x=(range_*(np.amax(vec)))/np.sum(vec)\n",
    "    vec=x/vec\n",
    "    vec=np.flip(vec)\n",
    "    sum_score=0\n",
    "\n",
    "    a= real_Y - real_predictions\n",
    "    for i in range (real_Y.size):\n",
    "        if a[i]<0:                                                               #if not==> penalty\n",
    "            sum_score=sum_score+vec[i]\n",
    "    return sum_score\n",
    "\n",
    "#definition of a score that evaluates the normalized standard deviation of the error\n",
    "def norm_std(Y, predictions):\n",
    "\n",
    "    real_predictions = predictions[Y!=pad]\n",
    "    real_Y = Y[Y!=pad]\n",
    "    err = np.abs(real_Y - real_predictions)\n",
    "    graph = (err/real_Y)*100                                                       #save the values that will make up a graph in graph\n",
    "    std = np.std(err)\n",
    "    prec = std/(np.average(real_Y))\n",
    "    return prec, graph\n",
    "\n",
    "#definition Score that summarizes the previous ones, giving more importance to MAPE\n",
    "def agg_score(Y,predictions):\n",
    "\n",
    "    w_mape = 2/3\n",
    "    w_prec = 1/6\n",
    "    w_rel_sc = 1/6\n",
    "    prec, graph = norm_std(Y,predictions)\n",
    "    score = w_prec*prec+w_rel_sc*rel_score(Y, predictions) + w_mape*MAPE(Y, predictions)\n",
    "    return score"
   ]
  },
  {
   "cell_type": "markdown",
   "metadata": {
    "id": "Q8fENNmwQwMU"
   },
   "source": [
    "**Randomized Search**\n",
    "\n",
    "Defines two functions:\n",
    "- `randomized_search_1()`: global sampling of learning rate, conv/LSTM sizes, dense width, dropout, activations, epochs, and strides.\n",
    "- `randomized_search_2(...)`: local refinement around the current best.\n",
    "\n",
    "Used to propose hyperparameters for model training.\n"
   ]
  },
  {
   "cell_type": "code",
   "execution_count": null,
   "metadata": {
    "id": "-rexcBBcQu96"
   },
   "outputs": [],
   "source": [
    "def randomized_search_1():\n",
    "\n",
    "  exp = -3*np.random.rand()-1\n",
    "  alpha = np.power(10,exp)                          \n",
    "\n",
    "  size_conv = np.random.rand()+1                     #number that enlarges the number of units in all convolutional layers accordingly \n",
    "  size_lstm = np.random.choice([16,32,64,128])       \n",
    "  size_dense = int(np.abs((np.random.normal(10,2))))  \n",
    "  activations = np.random.choice([\"relu\",\"tanh\"],4)\n",
    "\n",
    "  choice = np.random.rand()\n",
    "  if choice < 0.5:                                \n",
    "    drop = 0\n",
    "  else:\n",
    "    drop=np.random.rand()\n",
    "  if drop == 0:\n",
    "    drop_1 = 0\n",
    "  else:\n",
    "    drop_1 = np.abs(drop-0.1)                      #the dropout for the last layer is slightly lower\n",
    "                 \n",
    "  epo = int(np.random.uniform(400,900))\n",
    "  size_stride = np.random.choice([1,2],3)\n",
    "\n",
    "  return alpha, size_conv, size_lstm,size_dense, drop, drop_1, activations, epo, size_stride\n",
    "\n",
    "def randomized_search_2(alpha_1, size_conv_1,size_dense_1, drop_1, activations_1, epo_1):\n",
    "\n",
    "  alpha = np.random.uniform(0.5*alpha_1, 1.5*alpha_1 )\n",
    "\n",
    "  size_conv = np.abs(np.random.normal(size_conv_1,0.2))\n",
    "  size_dense = int(np.abs((np.random.normal(size_dense_1,1))))\n",
    "\n",
    "  if drop_1 == 0:\n",
    "    drop=np.random.rand()\n",
    "  else:\n",
    "    drop=np.random.uniform(0.9*drop_1, 1.1*drop_1)\n",
    "    if drop >= 1:                                            \n",
    "      drop = 0.95\n",
    "  drop_1_1 = np.abs(drop-0.1)\n",
    "\n",
    "  if np.sum(activations_1=='relu')>2:\n",
    "    activations=np.random.choice([\"relu\",\"tanh\"],4,p=[0.7,0.3]) \n",
    "  elif np.sum(activations_1=='relu')==2:\n",
    "    activations=activations_1\n",
    "  else:\n",
    "    activations=np.random.choice([\"relu\",\"tanh\"],4,p=[0.3,0.7])\n",
    "\n",
    "  epo=int(np.random.uniform(0.85*epo_1,1.15*epo_1))\n",
    "  if epo>1000:                                           \n",
    "    epo=1000\n",
    "\n",
    "  return alpha, size_conv, size_dense, drop, drop_1_1, activations, epo"
   ]
  },
  {
   "cell_type": "markdown",
   "metadata": {
    "id": "COmqByQY-POn"
   },
   "source": [
    "**Train the Model**\n",
    "\n",
    "High-level training orchestration with time budgets:\n",
    "- Part 1: broad search over random configs with Conv+LSTM when `conv` is False.\n",
    "- Part 2: local search around the best configuration.\n",
    "\n",
    "Tracks `min_score` using `agg_score` on the test set.\n"
   ]
  },
  {
   "cell_type": "markdown",
   "metadata": {
    "id": "iRS62m-cA7a_"
   },
   "source": [
    "**Local Search: Conv + LSTM**\n",
    "\n",
    "Iterates candidate hyperparameters, compiles with Adam, trains for `epo` epochs, evaluates on `Y_test`, and saves the best LSTM model by aggregate score.\n"
   ]
  },
  {
   "cell_type": "code",
   "execution_count": null,
   "metadata": {
    "colab": {
     "base_uri": "https://localhost:8080/",
     "height": 1000
    },
    "executionInfo": {
     "elapsed": 17792966,
     "status": "error",
     "timestamp": 1639661834967,
     "user": {
      "displayName": "Francesco Porta",
      "photoUrl": "https://lh3.googleusercontent.com/a/default-user=s64",
      "userId": "03935837305942219636"
     },
     "user_tz": -60
    },
    "id": "LdkLTq_HWBSU",
    "outputId": "f76a7179-4986-4f6e-ce07-27dfb80a1d7c"
   },
   "outputs": [],
   "source": [
    "lstm_model_name = \"\"\n",
    "min_score = 100                                                                    \n",
    "i = 1\n",
    "flag = True\n",
    "start = time.time()\n",
    "if not conv:\n",
    "  while(time.time() - start < 10800 and i < 130):                     #execute part 1 until 10,800 seconds have passed or I have evaluated more than 130 models\n",
    "                                                                                \n",
    "    print(i)                                                                      \n",
    "    if i%10 == 0:                                                                  \n",
    "      print(\"il MAPE vale \",MAPE(np.ravel(Y_test), np.ravel(model.predict(X_test))))\n",
    "      print(\"L'agg score vale \",agg_score(np.ravel(Y_test), np.ravel(model.predict(X_test))))\n",
    "      print(alpha)\n",
    "      print(size_lstm)\n",
    "      print(size_dense)\n",
    "\n",
    "    while flag == True:\n",
    "      try:                                                                      \n",
    "        alpha, size_conv, size_lstm,size_dense, drop, drop_1, activations, epo, size_stride = randomized_search_1()\n",
    "        model = model_conv_lstm(max_l, nh, nw, nch, size_conv, size_lstm,\n",
    "                                 size_dense, drop, drop_1, activations, size_stride)\n",
    "        flag = False\n",
    "      except:                                                                    #if it fails due to inconsistencies in the model dimensions==>try again\n",
    "        flag = True\n",
    "    flag = True\n",
    "    opt = keras.optimizers.Adam(learning_rate=alpha)\n",
    "    model.compile(optimizer=opt, loss='mean_squared_error')\n",
    "    history=model.fit(X_train, Y_train, \n",
    "                      batch_size=5, epochs=epo, verbose=0)             \n",
    "    i=i+1\n",
    "    predictions=np.ravel(model.predict(X_test))\n",
    "\n",
    "    if agg_score(np.ravel(Y_test),predictions)<min_score:\n",
    "      min_score=agg_score(np.ravel(Y_test),predictions)\n",
    "      alpha_1, size_conv_1, size_lstm_1, size_dense_1, drop_1, drop_1_1, activations_1, epo_1, size_stride_1 = alpha, size_conv, size_lstm, size_dense, drop, drop_1, activations, epo, size_stride\n",
    "      model.save(lstm_model_name)                                   \n",
    "    \n",
    "  i=1     \n",
    "  start=time.time() \n",
    "  while(time.time()-start<7200 and i <90):                                        #execute part 2 until 7200 seconds have passed or I have evaluated more than 90 models\n",
    "\n",
    "    print(i)\n",
    "    if i%10==0:\n",
    "      print(\"il MAPE vale \", MAPE(np.ravel(Y_test), np.ravel(model.predict(X_test))))\n",
    "      print(\"L'agg score vale \", agg_score(np.ravel(Y_test), np.ravel(model.predict(X_test))))\n",
    "      print(alpha)\n",
    "      print(size_lstm)\n",
    "      print(size_dense)\n",
    "\n",
    "    alpha, size_conv,size_dense, drop, drop_1, activations, epo = randomized_search_2(alpha_1, size_conv_1, size_dense_1,\n",
    "                                                                                       drop_1,activations_1, epo_1)\n",
    "    model= model_conv_lstm(max_l, nh, nw, nch, size_conv, \n",
    "                           size_lstm_1, size_dense, drop, \n",
    "                           drop_1, activations, size_stride_1)\n",
    "    opt = keras.optimizers.Adam(learning_rate = alpha)\n",
    "    model.compile(optimizer = opt, loss = 'mean_squared_error')\n",
    "    history=model.fit(X_train, Y_train,\n",
    "                     batch_size=5, epochs=epo,\n",
    "                    verbose=0)\n",
    "    i=i+1\n",
    "    predictions = np.ravel(model.predict(X_test))\n",
    "\n",
    "    if agg_score(np.ravel(Y_test), predictions) < min_score:\n",
    "\n",
    "      min_score = agg_score(np.ravel(Y_test),predictions)\n",
    "      alpha_1, size_conv_1, size_lstm_1,size_dense_1, drop_1, drop_1_1, activations_1, epo_1, size_stride_1 = alpha, size_conv, size_lstm_1,size_dense,drop, drop_1, activations, epo, size_stride_1\n",
    "      model.save(lstm_model_name)\n"
   ]
  },
  {
   "cell_type": "markdown",
   "metadata": {
    "id": "sGTTC06fCEvB"
   },
   "source": [
    "**Local Search: Convolutional**\n",
    "\n",
    "Same local-search strategy for the pure Conv2D model when `conv` is True.\n"
   ]
  },
  {
   "cell_type": "code",
   "execution_count": null,
   "metadata": {
    "colab": {
     "base_uri": "https://localhost:8080/"
    },
    "executionInfo": {
     "elapsed": 313,
     "status": "ok",
     "timestamp": 1637525461190,
     "user": {
      "displayName": "Francesco Porta",
      "photoUrl": "https://lh3.googleusercontent.com/a/default-user=s64",
      "userId": "03935837305942219636"
     },
     "user_tz": -60
    },
    "id": "ZZwMSpxTBZMj",
    "outputId": "b4cbfd74-e876-4c89-c856-578abcfc6402"
   },
   "outputs": [],
   "source": [
    "conv_model_name = \"\"\n",
    "min_score = 100\n",
    "i = 1\n",
    "flag = True\n",
    "start=time.time()\n",
    "if conv:\n",
    "\n",
    "  while(time.time() - start<10800 and i <130):\n",
    "\n",
    "    print(i)\n",
    "    if i%10==0:\n",
    "      print(\"il MAPE vale \",MAPE(np.ravel(Y_test),np.ravel(model.predict(X_test))))\n",
    "      print(\"L'agg score vale \",agg_score(np.ravel(Y_test),np.ravel(model.predict(X_test))))\n",
    "\n",
    "    while flag==True:\n",
    "\n",
    "      try:\n",
    "        alpha, size_conv, size_lstm, size_dense, drop, drop_1, activations, epo, size_stride = randomized_search_1()\n",
    "        model = model_conv2D(nh, nw, nch, size_conv,\n",
    "                              size_dense, drop, drop_1,\n",
    "                              activations, size_stride)\n",
    "        flag=False\n",
    "      except:\n",
    "        flag=True\n",
    "    flag=True\n",
    "    opt = keras.optimizers.Adam(learning_rate = alpha)\n",
    "    model.compile(optimizer = opt, loss='MAPE')\n",
    "    history=model.fit(X_train, Y_train, batch_size=64,\n",
    "                       epochs=epo, verbose=0)\n",
    "    i=i+1\n",
    "    predictions=np.ravel(model.predict(X_test))\n",
    "    if agg_score(np.ravel(Y_test),predictions)<min_score:\n",
    "      min_score=agg_score(np.ravel(Y_test),predictions)\n",
    "      alpha_1, size_conv_1, size_lstm_1,size_dense_1, drop_1, drop_1_1, activations_1, epo_1, size_stride_1 = alpha, size_conv, size_lstm,size_dense,drop, drop_1, activations, epo, size_stride\n",
    "      model.save(conv_model_name) \n",
    "  i=1    \n",
    "  start=time.time() \n",
    "  while(time.time() - start<7200 and i<90):\n",
    "\n",
    "    print(i)\n",
    "    if i%10==0:\n",
    "      print(\"il MAPE vale \",MAPE(np.ravel(Y_test),np.ravel(model.predict(X_test))))\n",
    "      print(\"L'agg score vale \",agg_score(np.ravel(Y_test),np.ravel(model.predict(X_test))))\n",
    "\n",
    "    alpha, size_conv,size_dense, drop, drop_1, activations, epo = randomized_search_2(alpha_1, size_conv_1,\n",
    "                                                                                       size_dense_1, drop_1,\n",
    "                                                                                         activations_1, epo_1)\n",
    "    model = model_conv2D(nh, nw, nch, size_conv, size_dense,\n",
    "                          drop, drop_1, activations, size_stride_1)\n",
    "    opt = keras.optimizers.Adam(learning_rate=alpha)\n",
    "    model.compile(optimizer = opt, loss = 'MAPE')\n",
    "    history = model.fit(X_train, Y_train,\n",
    "                         batch_size=64, epochs=epo, verbose=0)\n",
    "    i = i+1\n",
    "    predictions = np.ravel(model.predict(X_test))\n",
    "    if agg_score(np.ravel(Y_test),predictions) < min_score:\n",
    "      min_score = agg_score(np.ravel(Y_test),predictions)\n",
    "      alpha_1, size_conv_1, size_lstm_1,size_dense_1, drop_1, drop_1_1, activations_1, epo_1, size_stride_1 = alpha, size_conv, size_lstm_1, size_dense, drop, drop_1, activations, epo, size_stride_1\n",
    "      model.save(conv_model_name)"
   ]
  },
  {
   "cell_type": "markdown",
   "metadata": {
    "id": "3eZOqs2BCUEN"
   },
   "source": [
    "**Best Model Statistics**\n",
    "\n",
    "Loads the best model, runs predictions on `X_test`, clips negatives to 0, and plots/prints summary metrics.\n"
   ]
  },
  {
   "cell_type": "code",
   "execution_count": null,
   "metadata": {
    "colab": {
     "base_uri": "https://localhost:8080/",
     "height": 1000
    },
    "executionInfo": {
     "elapsed": 6810,
     "status": "ok",
     "timestamp": 1641997193465,
     "user": {
      "displayName": "Francesco Porta",
      "photoUrl": "https://lh3.googleusercontent.com/a/default-user=s64",
      "userId": "03935837305942219636"
     },
     "user_tz": -60
    },
    "id": "Sj3DC1lMhNDy",
    "outputId": "e1ed57df-d2a4-4e27-ef05-18cf4e31ac12"
   },
   "outputs": [
    {
     "name": "stdout",
     "output_type": "stream",
     "text": [
      "Drive already mounted at /gdrive; to attempt to forcibly remount, call drive.mount(\"/gdrive\", force_remount=True).\n",
      "/gdrive/My Drive\n",
      "1.0381188730208257\n",
      "0.32520034174656254\n",
      "0.46681384558495415\n",
      "  \n",
      "0.8240816132358033\n"
     ]
    },
    {
     "data": {
      "image/png": "[encoded data removed]",
      "text/plain": [
       "<Figure size 432x288 with 1 Axes>"
      ]
     },
     "metadata": {
      "needs_background": "light"
     },
     "output_type": "display_data"
    },
    {
     "name": "stdout",
     "output_type": "stream",
     "text": [
      " \n",
      "il MAE vale  55.743544373512265\n"
     ]
    },
    {
     "data": {
      "image/png": "[encoded data removed]",
      "text/plain": [
       "<Figure size 432x288 with 1 Axes>"
      ]
     },
     "metadata": {
      "needs_background": "light"
     },
     "output_type": "display_data"
    },
    {
     "name": "stdout",
     "output_type": "stream",
     "text": [
      "0.2260008516922248\n",
      " \n"
     ]
    },
    {
     "data": {
      "image/png": "[encoded data removed]",
      "text/plain": [
       "<Figure size 432x288 with 1 Axes>"
      ]
     },
     "metadata": {
      "needs_background": "light"
     },
     "output_type": "display_data"
    }
   ],
   "source": [
    "best_model = \"\"\n",
    "predictions = np.ravel(best_model.predict(X_test))\n",
    "predictions[predictions<0] = 0                                                     #if I predict a negative number==> make it null for consistency\n",
    "if conv:                                                                       \n",
    "  predictions = predictions[np.flip(Y_test.argsort())]\n",
    "  Y_test = np.flip(np.sort(Y_test))\n",
    "\n",
    "print(MAPE(np.ravel(Y_test),predictions))\n",
    "prec, graph = norm_std(np.ravel(Y_test),predictions)\n",
    "print(prec)\n",
    "print(rel_score(np.ravel(Y_test),predictions))\n",
    "print(\"  \")\n",
    "print(agg_score(np.ravel(Y_test),predictions))\n",
    "\n",
    "plt.plot(predictions,label=\"prediction\")\n",
    "plt.plot(np.ravel(Y_test),label=\"groundtruth\")\n",
    "plt.legend()\n",
    "plt.ylabel('RUL')\n",
    "plt.xlabel('index')\n",
    "plt.title('Predizioni sul test set')\n",
    "plt.show()\n",
    "print(\" \")\n",
    "\n",
    "mae, MAE = norm_MAE(np.ravel(Y_test), predictions)\n",
    "print(\"il MAE vale \", MAE)\n",
    "\n",
    "if not conv:\n",
    "  for i in range (a):  \n",
    "    predictions_tr=np.ravel(best_model.predict(X_train)[i,:,:])\n",
    "    plt.plot(predictions_tr,label=\"prediction\")\n",
    "    plt.plot(np.ravel(Y_train[i,:]),label=\"groundtruth\")\n",
    "    plt.legend()\n",
    "    plt.ylabel('RUL')\n",
    "    plt.xlabel('index')\n",
    "    plt.show()\n",
    "\n",
    "if conv:             \n",
    "  predictions_tr=np.ravel(best_model.predict(X_train))\n",
    "  plt.plot(predictions_tr,label=\"prediction\")\n",
    "  plt.plot(np.ravel(Y_train),label=\"groundtruth\")\n",
    "  plt.legend()\n",
    "  plt.ylabel('RUL')\n",
    "  plt.xlabel('index')\n",
    "  plt.title('Predizioni sul trainig set')\n",
    "  plt.show()\n",
    "  \n",
    "predictions_tr=np.ravel(best_model.predict(X_train))\n",
    "print(MAPE(np.ravel(Y_train),predictions_tr))\n",
    "print(\" \")\n",
    "\n",
    "plt.plot(graph)\n",
    "plt.ylabel('% errore')\n",
    "plt.xlabel('index')\n",
    "plt.title('Errore percentuale per ogni predizione')\n",
    "plt.show()"
   ]
  },
  {
   "cell_type": "markdown",
   "metadata": {
    "id": "5AaHw6jWX5ZT"
   },
   "source": [
    "**Retraining & Loss Curve**\n",
    "\n",
    "Optional: clone the best model and retrain to inspect how the training loss evolves across epochs (to validate convergence and detect overfitting).\n"
   ]
  },
  {
   "cell_type": "code",
   "execution_count": null,
   "metadata": {
    "id": "AruR95l4YR4Z"
   },
   "outputs": [],
   "source": [
    "if not conv:\n",
    "  batch = 2\n",
    "else:\n",
    "  batch= 64\n",
    "best_model_training = keras.models.clone_model(best_model)\n",
    "alpha = (best_model.optimizer.get_config()).get(\"learning_rate\")\n",
    "opt = keras.optimizers.Adam(learning_rate = alpha)\n",
    "best_model_training.compile(optimizer = opt, loss = 'mean_squared_error')\n",
    "history = best_model_training.fit(X_train, Y_train, \n",
    "                                batch_size=batch, \n",
    "                                epochs=500, verbose=0)\n",
    "loss=history.history['loss']\n",
    "epochs=range(1, len(loss)+1)\n",
    "plt.plot(epochs,loss)\n",
    "plt.ylabel('Training loss (MSE)')\n",
    "plt.xlabel('epochs')\n",
    "plt.show()"
   ]
  },
  {
   "cell_type": "markdown",
   "metadata": {
    "id": "zRCe05ezYaxA"
   },
   "source": [
    "**Retrieve Best LSTM Model Parameters**\n",
    "\n",
    "Extracts layer configuration (activations, filters, strides, dropout, units) from the selected LSTM-based model.\n"
   ]
  },
  {
   "cell_type": "code",
   "execution_count": null,
   "metadata": {
    "id": "3F64En2nYkeo"
   },
   "outputs": [],
   "source": [
    "if not conv:\n",
    "\n",
    "  list_layer = list((best_model.get_config()).get('layers'))\n",
    "  activ=[]; filt=[]; strid=[]; rate=[]; uni_lstm=0; uni_dense=0\n",
    "  #1 conv 2d\n",
    "  activ = activ + [((((list_layer[1]).get('config')).get('layer')).get('config')).get('activation')]\n",
    "  filt = filt + [((((list_layer[1]).get('config')).get('layer')).get('config')).get('filters')]\n",
    "  strid = strid + [((((list_layer[1]).get('config')).get('layer')).get('config')).get('strides')]\n",
    "\n",
    "  #1 dropout\n",
    "  rate = rate + [((list_layer[2]).get('config')).get('rate')]\n",
    "\n",
    "  #2 conv 2d\n",
    "  activ = activ + [((((list_layer[5]).get('config')).get('layer')).get('config')).get('activation')]\n",
    "  filt = filt + [((((list_layer[5]).get('config')).get('layer')).get('config')).get('filters')]\n",
    "  strid = strid + [((((list_layer[5]).get('config')).get('layer')).get('config')).get('strides')]\n",
    "\n",
    "  #3 conv 2d\n",
    "  activ = activ + [((((list_layer[9]).get('config')).get('layer')).get('config')).get('activation')]\n",
    "  filt = filt + [((((list_layer[9]).get('config')).get('layer')).get('config')).get('filters')]\n",
    "  strid = strid + [((((list_layer[9]).get('config')).get('layer')).get('config')).get('strides')]\n",
    "\n",
    "  #LSTM\n",
    "  uni_lstm = ((list_layer[14]).get('config')).get('units')\n",
    "  #2 dropout\n",
    "  rate = rate + [((list_layer[19]).get('config')).get('rate')]\n",
    "  #1 dense\n",
    "  uni_dense = ((((list_layer[17]).get('config')).get('layer')).get('config')).get('units')\n",
    "  activ = activ + [((((list_layer[17]).get('config')).get('layer')).get('config')).get('activation')]\n",
    "\n",
    "  alpha = (best_model.optimizer.get_config()).get(\"learning_rate\")"
   ]
  },
  {
   "cell_type": "markdown",
   "metadata": {
    "id": "THNdipebR374"
   },
   "source": [
    "**Retrieve Best Convolutional Model Parameters**\n",
    "\n",
    "Extracts layer parameters from the selected Conv2D-only model.\n"
   ]
  },
  {
   "cell_type": "code",
   "execution_count": null,
   "metadata": {
    "id": "kR6cumW2Rkvj"
   },
   "outputs": [],
   "source": [
    "if conv:\n",
    "  list_layer = list((best_model.get_config()).get('layers'))\n",
    "  activ=[]; filt=[]; strid=[]; rate=[]; uni_lstm=0; uni_dense=0\n",
    "  #1 conv 2d\n",
    "  activ = activ + [((list_layer[1]).get('config')).get('activation')]\n",
    "  filt = filt + [((list_layer[1]).get('config')).get('filters')]\n",
    "  strid = strid + [((list_layer[1]).get('config')).get('strides')]\n",
    "\n",
    "  #1 dropout\n",
    "  rate = rate + [((list_layer[2]).get('config')).get('rate')]\n",
    "\n",
    "  #2 conv 2d\n",
    "  activ = activ + [((list_layer[5]).get('config')).get('activation')]\n",
    "  filt = filt + [((list_layer[5]).get('config')).get('filters')]\n",
    "  strid = strid+[((list_layer[5]).get('config')).get('strides')]\n",
    "\n",
    "  #3 conv 2d\n",
    "  activ = activ+[((list_layer[9]).get('config')).get('activation')]\n",
    "  filt = filt+[((list_layer[9]).get('config')).get('filters')]\n",
    "  strid = strid+[((list_layer[9]).get('config')).get('strides')]\n",
    "  #1 dense\n",
    "  uni_dense = ((list_layer[14]).get('config')).get('units')\n",
    "  activ = activ + [((list_layer[14]).get('config')).get('activation')]\n",
    "  #2 dropout\n",
    "  rate = rate + [((list_layer[15]).get('config')).get('rate')]\n",
    "\n",
    "  alpha = (best_model.optimizer.get_config()).get(\"learning_rate\")"
   ]
  }
 ],
 "metadata": {
  "colab": {
   "collapsed_sections": [],
   "name": " thesis_1.ipynb",
   "provenance": []
  },
  "kernelspec": {
   "display_name": "Python 3",
   "name": "python3"
  },
  "language_info": {
   "name": "python"
  }
 },
 "nbformat": 4,
 "nbformat_minor": 0
}
